{
 "cells": [
  {
   "cell_type": "code",
   "execution_count": 1,
   "metadata": {
    "collapsed": true
   },
   "outputs": [],
   "source": [
    "import numpy as np"
   ]
  },
  {
   "cell_type": "code",
   "execution_count": 2,
   "outputs": [
    {
     "name": "stdout",
     "output_type": "stream",
     "text": [
      "32\n"
     ]
    }
   ],
   "source": [
    "a = np.array([1, 2, 3])\n",
    "b = np.array([4, 5, 6])\n",
    "print(np.dot(a, b))"
   ],
   "metadata": {
    "collapsed": false,
    "pycharm": {
     "name": "#%%\n"
    }
   }
  },
  {
   "cell_type": "code",
   "execution_count": 3,
   "outputs": [
    {
     "data": {
      "text/plain": "array([[19, 22],\n       [43, 50]])"
     },
     "execution_count": 3,
     "metadata": {},
     "output_type": "execute_result"
    }
   ],
   "source": [
    "A = np.array([[1, 2], [3, 4]])\n",
    "B = np.array([[5, 6], [7, 8]])\n",
    "np.dot(A, B)"
   ],
   "metadata": {
    "collapsed": false,
    "pycharm": {
     "name": "#%%\n"
    }
   }
  },
  {
   "cell_type": "code",
   "execution_count": 5,
   "outputs": [
    {
     "data": {
      "text/plain": "array([[ 0.53677499,  1.41550964, -0.91716405,  1.1836723 ],\n       [ 1.27198304, -2.19698577,  1.05429072, -1.66459798],\n       [ 1.33997561, -2.37379315,  1.00719357, -1.7692823 ],\n       [ 1.20235997, -0.88707985, -0.54412085, -0.41815917],\n       [ 0.40851127,  1.3129494 , -0.19219542,  0.94104435],\n       [ 0.79869016,  4.07411927, -5.97011357,  4.15083336],\n       [ 0.73430612, -1.5401591 ,  2.50810988, -1.58493197],\n       [-0.18061371,  3.98326285, -1.4446134 ,  2.9969169 ],\n       [ 0.19823285,  4.96446042, -4.57529535,  4.398066  ],\n       [ 0.43886932,  3.26732967, -3.17918199,  2.94633347]])"
     },
     "execution_count": 5,
     "metadata": {},
     "output_type": "execute_result"
    }
   ],
   "source": [
    "W1 = np.random.randn(2, 4)\n",
    "b1 = np.random.randn(4)\n",
    "x = np.random.randn(10, 2)\n",
    "h = np.dot(x, W1) + b1\n",
    "h"
   ],
   "metadata": {
    "collapsed": false,
    "pycharm": {
     "name": "#%%\n"
    }
   }
  },
  {
   "cell_type": "code",
   "execution_count": 6,
   "outputs": [],
   "source": [
    "def sigmoid(x):\n",
    "    return 1 / (1 + np.exp(-x))"
   ],
   "metadata": {
    "collapsed": false,
    "pycharm": {
     "name": "#%%\n"
    }
   }
  },
  {
   "cell_type": "code",
   "execution_count": 8,
   "outputs": [
    {
     "data": {
      "text/plain": "array([[0.63106188, 0.80463351, 0.28553609, 0.76560745],\n       [0.78108202, 0.1000215 , 0.74159798, 0.15914574],\n       [0.79248593, 0.08519305, 0.73247057, 0.1456316 ],\n       [0.76894434, 0.29171281, 0.36722949, 0.39695733],\n       [0.60073086, 0.78800628, 0.45209851, 0.71931056],\n       [0.68969422, 0.98327722, 0.00254745, 0.98449297],\n       [0.67574951, 0.17651215, 0.9247084 , 0.17009813],\n       [0.45496892, 0.98171577, 0.19083195, 0.95243465],\n       [0.54939656, 0.99306669, 0.01019818, 0.98784837],\n       [0.60798958, 0.96329086, 0.0399567 , 0.95008991]])"
     },
     "execution_count": 8,
     "metadata": {},
     "output_type": "execute_result"
    }
   ],
   "source": [
    "a = sigmoid(h)\n",
    "a"
   ],
   "metadata": {
    "collapsed": false,
    "pycharm": {
     "name": "#%%\n"
    }
   }
  },
  {
   "cell_type": "code",
   "execution_count": 9,
   "outputs": [
    {
     "data": {
      "text/plain": "array([[-1.09100666, -0.99157573, -2.01472865],\n       [-1.86657922, -0.52220226, -2.44699481],\n       [-1.86839787, -0.50700851, -2.40648886],\n       [-1.46746329, -0.68760654, -1.65940199],\n       [-1.22862257, -0.97241786, -2.44244946],\n       [-0.72783404, -1.22621116, -1.40408728],\n       [-1.98037819, -0.5182997 , -3.0491451 ],\n       [-0.95701554, -1.08835468, -2.00927332],\n       [-0.78903693, -1.12817573, -1.51151266],\n       [-0.80915421, -1.12756513, -1.53405225]])"
     },
     "execution_count": 9,
     "metadata": {},
     "output_type": "execute_result"
    }
   ],
   "source": [
    "W2 = np.random.randn(4, 3)\n",
    "b2 = np.random.randn(3)\n",
    "s = np.dot(a, W2) + b2\n",
    "s"
   ],
   "metadata": {
    "collapsed": false,
    "pycharm": {
     "name": "#%%\n"
    }
   }
  },
  {
   "cell_type": "code",
   "execution_count": null,
   "outputs": [],
   "source": [],
   "metadata": {
    "collapsed": false,
    "pycharm": {
     "name": "#%%\n"
    }
   }
  }
 ],
 "metadata": {
  "kernelspec": {
   "display_name": "Python 3",
   "language": "python",
   "name": "python3"
  },
  "language_info": {
   "codemirror_mode": {
    "name": "ipython",
    "version": 2
   },
   "file_extension": ".py",
   "mimetype": "text/x-python",
   "name": "python",
   "nbconvert_exporter": "python",
   "pygments_lexer": "ipython2",
   "version": "2.7.6"
  }
 },
 "nbformat": 4,
 "nbformat_minor": 0
}